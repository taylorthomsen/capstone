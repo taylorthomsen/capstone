{
 "cells": [
  {
   "cell_type": "code",
   "execution_count": null,
   "metadata": {
    "collapsed": true
   },
   "outputs": [],
   "source": [
    "# import the libraries\n",
    "import tweepy\n",
    "import codecs"
   ]
  },
  {
   "cell_type": "code",
   "execution_count": null,
   "metadata": {
    "collapsed": true
   },
   "outputs": [],
   "source": [
    "# fill in your Twitter credentials\n",
    "consumer_key = 'kwrWHXJppr4uaDJb1yBBUe3Sy'\n",
    "consumer_secret = '1o1BvBTvBxvcyPqBdG6q1d8irBfl955IVnjPwn7ja0uYNaTvLA'\n",
    "access_token = '727279051170181121DVAUULh0SeCESGuDbuJn9rq4pvdXTGQ'\n",
    "access_token_secret = 'jeW3OS3Lg5YrQGKqJcuwX6vDHkFTbEL1mzbkdhbhIjqf2'"
   ]
  },
  {
   "cell_type": "code",
   "execution_count": null,
   "metadata": {
    "collapsed": true
   },
   "outputs": [],
   "source": [
    "# let Tweepy set up an instance of the REST API\n",
    "# https://api.twitter.com/1.1/tweets/search/fullarchive/devsandbox.json\n",
    "auth = tweepy.OAuthHandler(consumer_key, consumer_secret)\n",
    "auth.set_access_token(access_token, access_token_secret)\n",
    "api = tweepy.API(auth)\n",
    "\n",
    "# fill in your search query and store your results in a variable\n",
    "results = api.search(q = \"your search term here\", lang = \"en\", result_type = \"recent\", count = 1000)\n",
    "\n",
    "# use the codecs library to write the text of the Tweets to a .txt file\n",
    "file = codecs.open(\"twitterresults.txt\", \"w\", \"utf-8\")\n",
    "for result in results:\n",
    "\tfile.write(result.text)\n",
    "\tfile.write(\"\\n\")\n",
    "file.close()"
   ]
  }
 ],
 "metadata": {
  "kernelspec": {
   "display_name": "Python 3",
   "language": "python",
   "name": "python3"
  },
  "language_info": {
   "codemirror_mode": {
    "name": "ipython",
    "version": 3
   },
   "file_extension": ".py",
   "mimetype": "text/x-python",
   "name": "python",
   "nbconvert_exporter": "python",
   "pygments_lexer": "ipython3",
   "version": "3.5.1"
  }
 },
 "nbformat": 4,
 "nbformat_minor": 0
}
