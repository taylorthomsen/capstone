{
 "cells": [
  {
   "cell_type": "code",
   "execution_count": 1,
   "metadata": {},
   "outputs": [],
   "source": [
    "# import the libraries\n",
    "from searchtweets import load_credentials\n",
    "import tweepy\n",
    "import codecs"
   ]
  },
  {
   "cell_type": "code",
   "execution_count": 6,
   "metadata": {},
   "outputs": [
    {
     "name": "stderr",
     "output_type": "stream",
     "text": [
      "./twitter_keys.yaml is missing the provided key: twitter_keys\n",
      "Error parsing YAML file; searching for valid environment variables\n",
      "Account type is not specified and cannot be inferred.\n",
      "        Please check your credential file, arguments, or environment variables\n",
      "        for issues. The account type must be 'premium' or 'enterprise'.\n",
      "        \n"
     ]
    },
    {
     "ename": "KeyError",
     "evalue": "",
     "output_type": "error",
     "traceback": [
      "\u001b[0;31m---------------------------------------------------------------------------\u001b[0m",
      "\u001b[0;31mKeyError\u001b[0m                                  Traceback (most recent call last)",
      "\u001b[0;32m<ipython-input-6-9201e04a8fd6>\u001b[0m in \u001b[0;36m<module>\u001b[0;34m()\u001b[0m\n\u001b[1;32m      1\u001b[0m load_credentials(filename=\"./twitter_keys.yaml\",\n\u001b[1;32m      2\u001b[0m                  \u001b[0myaml_key\u001b[0m\u001b[0;34m=\u001b[0m\u001b[0;34m\"twitter_keys\"\u001b[0m\u001b[0;34m,\u001b[0m\u001b[0;34m\u001b[0m\u001b[0m\n\u001b[0;32m----> 3\u001b[0;31m                  env_overwrite=False)\n\u001b[0m",
      "\u001b[0;32m/usr/local/lib/python3.6/site-packages/searchtweets/credentials.py\u001b[0m in \u001b[0;36mload_credentials\u001b[0;34m(filename, account_type, yaml_key, env_overwrite)\u001b[0m\n\u001b[1;32m    184\u001b[0m                    \u001b[0;32mif\u001b[0m \u001b[0menv_overwrite\u001b[0m\u001b[0;34m\u001b[0m\u001b[0m\n\u001b[1;32m    185\u001b[0m                    else merge_dicts(env_vars, yaml_vars))\n\u001b[0;32m--> 186\u001b[0;31m     \u001b[0mparsed_vars\u001b[0m \u001b[0;34m=\u001b[0m \u001b[0m_parse_credentials\u001b[0m\u001b[0;34m(\u001b[0m\u001b[0mmerged_vars\u001b[0m\u001b[0;34m,\u001b[0m \u001b[0maccount_type\u001b[0m\u001b[0;34m=\u001b[0m\u001b[0maccount_type\u001b[0m\u001b[0;34m)\u001b[0m\u001b[0;34m\u001b[0m\u001b[0m\n\u001b[0m\u001b[1;32m    187\u001b[0m     \u001b[0;32mreturn\u001b[0m \u001b[0mparsed_vars\u001b[0m\u001b[0;34m\u001b[0m\u001b[0m\n\u001b[1;32m    188\u001b[0m \u001b[0;34m\u001b[0m\u001b[0m\n",
      "\u001b[0;32m/usr/local/lib/python3.6/site-packages/searchtweets/credentials.py\u001b[0m in \u001b[0;36m_parse_credentials\u001b[0;34m(search_creds, account_type)\u001b[0m\n\u001b[1;32m     80\u001b[0m         \"\"\"\n\u001b[1;32m     81\u001b[0m         \u001b[0mlogger\u001b[0m\u001b[0;34m.\u001b[0m\u001b[0merror\u001b[0m\u001b[0;34m(\u001b[0m\u001b[0mmsg\u001b[0m\u001b[0;34m)\u001b[0m\u001b[0;34m\u001b[0m\u001b[0m\n\u001b[0;32m---> 82\u001b[0;31m         \u001b[0;32mraise\u001b[0m \u001b[0mKeyError\u001b[0m\u001b[0;34m\u001b[0m\u001b[0m\n\u001b[0m\u001b[1;32m     83\u001b[0m \u001b[0;34m\u001b[0m\u001b[0m\n\u001b[1;32m     84\u001b[0m     \u001b[0;32mtry\u001b[0m\u001b[0;34m:\u001b[0m\u001b[0;34m\u001b[0m\u001b[0m\n",
      "\u001b[0;31mKeyError\u001b[0m: "
     ]
    }
   ],
   "source": [
    "load_credentials(filename=\"./twitter_keys.yaml\",\n",
    "                 yaml_key=\"twitter_keys\",\n",
    "                 env_overwrite=False)"
   ]
  },
  {
   "cell_type": "code",
   "execution_count": null,
   "metadata": {},
   "outputs": [],
   "source": []
  },
  {
   "cell_type": "code",
   "execution_count": null,
   "metadata": {},
   "outputs": [],
   "source": []
  },
  {
   "cell_type": "code",
   "execution_count": null,
   "metadata": {},
   "outputs": [],
   "source": []
  },
  {
   "cell_type": "code",
   "execution_count": 21,
   "metadata": {},
   "outputs": [],
   "source": [
    "# fill in your Twitter credentials\n",
    "consumer_key = 'kwrWHXJppr4uaDJb1yBBUe3Sy'\n",
    "consumer_secret = '1o1BvBTvBxvcyPqBdG6q1d8irBfl955IVnjPwn7ja0uYNaTvLA'\n",
    "access_token = '727279051170181121-DVAUULh0SeCESGuDbuJn9rq4pvdXTGQ'\n",
    "access_token_secret = 'jeW3OS3Lg5YrQGKqJcuwX6vDHkFTbEL1mzbkdhbhIjqf2'"
   ]
  },
  {
   "cell_type": "code",
   "execution_count": 22,
   "metadata": {},
   "outputs": [],
   "source": [
    "# let Tweepy set up an instance of the REST API\n",
    "# https://api.twitter.com/1.1/tweets/search/fullarchive/devsandbox.json\n",
    "auth = tweepy.OAuthHandler(consumer_key, consumer_secret)\n",
    "auth.set_access_token(access_token, access_token_secret)\n",
    "api = tweepy.API(auth)"
   ]
  },
  {
   "cell_type": "code",
   "execution_count": 23,
   "metadata": {},
   "outputs": [],
   "source": [
    "# fill in your search query and store your results in a variable\n",
    "results = api.search(q = \"your search term here\", lang = \"en\", result_type = \"recent\", count = 1000)\n",
    "\n",
    "# use the codecs library to write the text of the Tweets to a .txt file\n",
    "file = codecs.open(\"twitterresults.txt\", \"w\", \"utf-8\")\n",
    "for result in results:\n",
    "\tfile.write(result.text)\n",
    "\tfile.write(\"\\n\")\n",
    "file.close()"
   ]
  },
  {
   "cell_type": "code",
   "execution_count": 25,
   "metadata": {},
   "outputs": [],
   "source": [
    "for tweet in tweepy.Cursor(api.search,q='test',since='2014-07-01',until='2014-07-31').items():\n",
    "    print(tweet)"
   ]
  },
  {
   "cell_type": "code",
   "execution_count": 26,
   "metadata": {},
   "outputs": [],
   "source": [
    "if (not api):\n",
    "    print (\"Problem connecting to API\")"
   ]
  },
  {
   "cell_type": "code",
   "execution_count": null,
   "metadata": {},
   "outputs": [],
   "source": []
  }
 ],
 "metadata": {
  "kernelspec": {
   "display_name": "Python 3",
   "language": "python",
   "name": "python3"
  },
  "language_info": {
   "codemirror_mode": {
    "name": "ipython",
    "version": 3
   },
   "file_extension": ".py",
   "mimetype": "text/x-python",
   "name": "python",
   "nbconvert_exporter": "python",
   "pygments_lexer": "ipython3",
   "version": "3.6.3"
  }
 },
 "nbformat": 4,
 "nbformat_minor": 1
}
